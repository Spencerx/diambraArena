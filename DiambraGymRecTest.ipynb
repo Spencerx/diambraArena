{
 "cells": [
  {
   "cell_type": "code",
   "execution_count": null,
   "metadata": {},
   "outputs": [],
   "source": [
    "import sys, os\n",
    "import time\n",
    "\n",
    "from makeDiambraEnv import *\n",
    "from utils.policies import gamepadPolicy\n",
    "\n",
    "timeDepSeed = int((time.time()-int(time.time()-0.5))*1000)"
   ]
  },
  {
   "cell_type": "code",
   "execution_count": null,
   "metadata": {},
   "outputs": [],
   "source": [
    "base_path = \"/home/yourUsername/DIAMBRAenvironment/\"\n",
    "\n",
    "diambraEnvKwargs = {}\n",
    "diambraEnvKwargs[\"gameId\"]          = \"doapp\"\n",
    "diambraEnvKwargs[\"diambraEnv_path\"] = base_path + \"diambraEnvLib/\"\n",
    "diambraEnvKwargs[\"roms_path\"]       = base_path + \"roms/\" # Absolute path to roms\n",
    "diambraEnvKwargs[\"mame_path\"]       = base_path + \"mame/\" # Absolute path to MAME executable\n",
    "\n",
    "diambraEnvKwargs[\"mame_diambra_step_ratio\"] = 6\n",
    "diambraEnvKwargs[\"render\"]      = True\n",
    "diambraEnvKwargs[\"lock_fps\"]    = True # Locks to 60 FPS\n",
    "diambraEnvKwargs[\"sound\"]       = diambraEnvKwargs[\"lock_fps\"] and diambraEnvKwargs[\"render\"]\n",
    "\n",
    "# 1P\n",
    "diambraEnvKwargs[\"player\"] = \"Random\"\n",
    "# 2P\n",
    "#diambraEnvKwargs[\"player\"] = \"P1P2\"\n",
    "\n",
    "# Game specific\n",
    "diambraEnvKwargs[\"difficulty\"] = 3\n",
    "diambraEnvKwargs[\"characters\"]  = [[\"Random\", \"Random\"], [\"Random\", \"Random\"]]\n",
    "diambraEnvKwargs[\"charOutfits\"] = [2, 2]"
   ]
  },
  {
   "cell_type": "code",
   "execution_count": null,
   "metadata": {},
   "outputs": [],
   "source": [
    "# DIAMBRA gym kwargs\n",
    "diambraGymKwargs = {}\n",
    "diambraGymKwargs[\"P2brain\"]               = None\n",
    "diambraGymKwargs[\"continue_game\"]         = 0.0\n",
    "diambraGymKwargs[\"show_final\"]            = False\n",
    "diambraGymKwargs[\"gamePads\"]              = [None, diambraGymKwargs[\"P2brain\"]]\n",
    "diambraGymKwargs[\"actionSpace\"]           = [\"multiDiscrete\", \"multiDiscrete\"]\n",
    "diambraGymKwargs[\"attackButCombinations\"] = [True, True]\n",
    "diambraGymKwargs[\"actBufLen\"]             = 12"
   ]
  },
  {
   "cell_type": "code",
   "execution_count": null,
   "metadata": {},
   "outputs": [],
   "source": [
    "# Wrappers kwargs\n",
    "wrapperKwargs = {}\n",
    "wrapperKwargs[\"hwc_obs_resize\"]    = [256, 256, 1]\n",
    "wrapperKwargs[\"normalize_rewards\"] = True\n",
    "wrapperKwargs[\"clip_rewards\"]      = False\n",
    "wrapperKwargs[\"frame_stack\"]       = 6\n",
    "wrapperKwargs[\"dilation\"]          = 1\n",
    "wrapperKwargs[\"scale\"]             = True\n",
    "wrapperKwargs[\"scale_mod\"]         = 0"
   ]
  },
  {
   "cell_type": "code",
   "execution_count": null,
   "metadata": {},
   "outputs": [],
   "source": [
    "# Additional Observations\n",
    "\n",
    "#keyToAdd = None\n",
    "\n",
    "keyToAdd = []\n",
    "keyToAdd.append(\"ownActionsBuf\")\n",
    "if diambraEnvKwargs[\"player\"] == \"P1P2\":\n",
    "    keyToAdd.append(\"oppActionsBuf\") # Only 2P\n",
    "\n",
    "if diambraEnvKwargs[\"gameId\"] != \"tektagt\": # DOA, SFIII, UMK3\n",
    "    keyToAdd.append(\"ownHealth\")\n",
    "    keyToAdd.append(\"oppHealth\")\n",
    "else: # TEKTAG\n",
    "    keyToAdd.append(\"ownHealth_1\")\n",
    "    keyToAdd.append(\"ownHealth_2\")\n",
    "    keyToAdd.append(\"oppHealth_1\")\n",
    "    keyToAdd.append(\"oppHealth_2\")\n",
    "\n",
    "keyToAdd.append(\"ownPosition\")\n",
    "keyToAdd.append(\"oppPosition\")\n",
    "#keyToAdd.append(\"ownWins\")\n",
    "#keyToAdd.append(\"oppWins\")\n",
    "keyToAdd.append(\"stage\")\n",
    "keyToAdd.append(\"characters\")"
   ]
  },
  {
   "cell_type": "code",
   "execution_count": null,
   "metadata": {},
   "outputs": [],
   "source": [
    "# Recording kwargs\n",
    "trajRecKwargs = {}                                                          \n",
    "trajRecKwargs[\"user_name\"] = \"Alex\" #Your username\n",
    "trajRecKwargs[\"file_path\"] = os.path.join(base_path + \"trajRecordings\", diambraEnvKwargs[\"gameId\"])\n",
    "trajRecKwargs[\"ignore_p2\"] = 0                                    \n",
    "trajRecKwargs[\"commitHash\"] = \"0000000\""
   ]
  },
  {
   "cell_type": "code",
   "execution_count": null,
   "metadata": {},
   "outputs": [],
   "source": [
    "envId = \"Test\"\n",
    "env = make_diambra_env(diambraGym, env_prefix=envId, seed=timeDepSeed, \n",
    "                       diambra_kwargs=diambraEnvKwargs, \n",
    "                       diambra_gym_kwargs=diambraGymKwargs,\n",
    "                       wrapper_kwargs=wrapperKwargs, \n",
    "                       key_to_add=keyToAdd,\n",
    "                       traj_rec_kwargs=trajRecKwargs)"
   ]
  },
  {
   "cell_type": "code",
   "execution_count": null,
   "metadata": {},
   "outputs": [],
   "source": [
    "# GamePad policy initialization\n",
    "gamePad_policy = gamepadPolicy()\n",
    "gamePad_policy.initialize(env.actionList)"
   ]
  },
  {
   "cell_type": "code",
   "execution_count": null,
   "metadata": {},
   "outputs": [],
   "source": [
    "observation = env.reset()"
   ]
  },
  {
   "cell_type": "code",
   "execution_count": null,
   "metadata": {
    "scrolled": true
   },
   "outputs": [],
   "source": [
    "cumulativeEpRew = 0.0\n",
    "cumulativeEpRewAll = []\n",
    "\n",
    "maxNumEp = 4\n",
    "currNumEp = 0\n",
    "\n",
    "while currNumEp < maxNumEp:\n",
    "\n",
    "    # 1P\n",
    "    # Sampling actions from the action space\n",
    "    #action = env.action_spaces[0].sample()\n",
    "    # Using gamepad\n",
    "    action = gamePad_policy.getActions()\n",
    "    \n",
    "    # 2P\n",
    "    action2 = env.action_spaces[1].sample()\n",
    "    if diambraEnvKwargs[\"player\"] == \"P1P2\":\n",
    "        action = np.append(action, action2)\n",
    "        \n",
    "    observation, reward, done, info = env.step(action)\n",
    "        \n",
    "    cumulativeEpRew += reward\n",
    "    \n",
    "    if np.any(done):\n",
    "        currNumEp += 1\n",
    "        print(\"Ep. # = \", currNumEp)\n",
    "        print(\"Ep. Cumulative Rew # = \", cumulativeEpRew)\n",
    "        cumulativeEpRewAll.append(cumulativeEpRew)\n",
    "        cumulativeEpRew = 0.0\n",
    "\n",
    "        observation = env.reset()\n",
    "\n",
    "print(\"Mean cumulative reward = \", np.mean(cumulativeEpRewAll))    \n",
    "print(\"Std cumulative reward = \", np.std(cumulativeEpRewAll))       \n",
    "    \n",
    "env.close()"
   ]
  },
  {
   "cell_type": "code",
   "execution_count": null,
   "metadata": {},
   "outputs": [],
   "source": []
  }
 ],
 "metadata": {
  "kernelspec": {
   "display_name": "Python 3",
   "language": "python",
   "name": "python3"
  },
  "language_info": {
   "codemirror_mode": {
    "name": "ipython",
    "version": 3
   },
   "file_extension": ".py",
   "mimetype": "text/x-python",
   "name": "python",
   "nbconvert_exporter": "python",
   "pygments_lexer": "ipython3",
   "version": "3.6.12"
  }
 },
 "nbformat": 4,
 "nbformat_minor": 4
}
