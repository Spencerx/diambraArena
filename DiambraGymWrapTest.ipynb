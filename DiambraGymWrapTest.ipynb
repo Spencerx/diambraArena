{
 "cells": [
  {
   "cell_type": "code",
   "execution_count": null,
   "metadata": {},
   "outputs": [],
   "source": [
    "import sys, os\n",
    "import time\n",
    "import cv2\n",
    "\n",
    "from makeDiambraEnv import *\n",
    "\n",
    "timeDepSeed = int((time.time()-int(time.time()-0.5))*1000)"
   ]
  },
  {
   "cell_type": "code",
   "execution_count": null,
   "metadata": {},
   "outputs": [],
   "source": [
    "base_path = \"/home/yourUsername/DIAMBRAenvironment/\"\n",
    "\n",
    "diambraEnvKwargs = {}\n",
    "diambraEnvKwargs[\"gameId\"]          = \"doapp\"\n",
    "diambraEnvKwargs[\"diambraEnv_path\"] = base_path + \"diambraEnvLib/\"\n",
    "diambraEnvKwargs[\"roms_path\"]       = base_path + \"roms/\" # Absolute path to roms\n",
    "diambraEnvKwargs[\"mame_path\"]       = base_path + \"mame/\" # Absolute path to MAME executable\n",
    "\n",
    "diambraEnvKwargs[\"mame_diambra_step_ratio\"] = 6\n",
    "diambraEnvKwargs[\"render\"]      = True\n",
    "diambraEnvKwargs[\"lock_fps\"]    = True # Locks to 60 FPS\n",
    "diambraEnvKwargs[\"sound\"]       = diambraEnvKwargs[\"lock_fps\"] and diambraEnvKwargs[\"render\"]\n",
    "\n",
    "# 1P\n",
    "diambraEnvKwargs[\"player\"] = \"Random\"\n",
    "# 2P\n",
    "#diambraEnvKwargs[\"player\"] = \"P1P2\"\n",
    "\n",
    "# Game specific\n",
    "diambraEnvKwargs[\"difficulty\"] = 3\n",
    "diambraEnvKwargs[\"characters\"]  = [[\"Random\", \"Random\"], [\"Random\", \"Random\"]]\n",
    "diambraEnvKwargs[\"charOutfits\"] = [2, 2]"
   ]
  },
  {
   "cell_type": "code",
   "execution_count": null,
   "metadata": {},
   "outputs": [],
   "source": [
    "# DIAMBRA gym kwargs\n",
    "diambraGymKwargs = {}\n",
    "diambraGymKwargs[\"P2brain\"]               = None#gamePad_policy\n",
    "diambraGymKwargs[\"continue_game\"]         = 0.0\n",
    "diambraGymKwargs[\"show_final\"]            = False\n",
    "diambraGymKwargs[\"gamePads\"]              = [None, diambraGymKwargs[\"P2brain\"]]\n",
    "diambraGymKwargs[\"actionSpace\"]           = [\"discrete\", \"multiDiscrete\"]\n",
    "diambraGymKwargs[\"attackButCombinations\"] = [True, False]\n",
    "diambraGymKwargs[\"actBufLen\"]             = 12"
   ]
  },
  {
   "cell_type": "code",
   "execution_count": null,
   "metadata": {},
   "outputs": [],
   "source": [
    "# Wrappers kwargs\n",
    "wrapperKwargs = {}\n",
    "wrapperKwargs[\"hwc_obs_resize\"]    = [256, 256, 1]\n",
    "wrapperKwargs[\"normalize_rewards\"] = True\n",
    "wrapperKwargs[\"clip_rewards\"]      = False\n",
    "wrapperKwargs[\"frame_stack\"]       = 6\n",
    "wrapperKwargs[\"dilation\"]          = 1\n",
    "wrapperKwargs[\"scale\"]             = True\n",
    "wrapperKwargs[\"scale_mod\"]         = 0"
   ]
  },
  {
   "cell_type": "code",
   "execution_count": null,
   "metadata": {},
   "outputs": [],
   "source": [
    "# Additional Observations\n",
    "\n",
    "#keyToAdd = None\n",
    "\n",
    "keyToAdd = []\n",
    "keyToAdd.append(\"ownActionsBuf\")\n",
    "if diambraEnvKwargs[\"player\"] == \"P1P2\":\n",
    "    keyToAdd.append(\"oppActionsBuf\") # Only 2P\n",
    "\n",
    "if diambraEnvKwargs[\"gameId\"] != \"tektagt\": # DOA, SFIII, UMK3\n",
    "    keyToAdd.append(\"ownHealth\")\n",
    "    keyToAdd.append(\"oppHealth\")\n",
    "else: # TEKTAG\n",
    "    keyToAdd.append(\"ownHealth_1\")\n",
    "    keyToAdd.append(\"ownHealth_2\")\n",
    "    keyToAdd.append(\"oppHealth_1\")\n",
    "    keyToAdd.append(\"oppHealth_2\")\n",
    "\n",
    "keyToAdd.append(\"ownPosition\")\n",
    "keyToAdd.append(\"oppPosition\")\n",
    "#keyToAdd.append(\"ownWins\")\n",
    "#keyToAdd.append(\"oppWins\")\n",
    "keyToAdd.append(\"stage\")\n",
    "keyToAdd.append(\"characters\")"
   ]
  },
  {
   "cell_type": "code",
   "execution_count": null,
   "metadata": {},
   "outputs": [],
   "source": [
    "envId = \"Test\"\n",
    "env = make_diambra_env(diambraGym, env_prefix=envId, seed=timeDepSeed, \n",
    "                       diambra_kwargs=diambraEnvKwargs, \n",
    "                       diambra_gym_kwargs=diambraGymKwargs,\n",
    "                       wrapper_kwargs=wrapperKwargs, \n",
    "                       key_to_add=keyToAdd)"
   ]
  },
  {
   "cell_type": "code",
   "execution_count": null,
   "metadata": {},
   "outputs": [],
   "source": [
    "print(\"Obs space =\", env.observation_space)\n",
    "print(\"Obs space type =\", env.observation_space.dtype)\n",
    "print(\"Obs space high bound =\", env.observation_space.high)\n",
    "print(\"Obs space low bound =\", env.observation_space.low)"
   ]
  },
  {
   "cell_type": "code",
   "execution_count": null,
   "metadata": {},
   "outputs": [],
   "source": [
    "# Printing action spaces\n",
    "for idx in range(2):\n",
    "    \n",
    "    if diambraEnvKwargs[\"player\"] != \"P1P2\" and idx == 1:\n",
    "        continue\n",
    "        \n",
    "    print(\"Action space {}P = \".format(idx+1), env.action_spaces[idx])\n",
    "    print(\"Action space type P{} = \".format(idx+1), env.action_spaces[idx].dtype)\n",
    "    if diambraGymKwargs[\"actionSpace\"][idx] == \"multiDiscrete\":\n",
    "        print(\"Action space n = \", env.action_spaces[idx].nvec)\n",
    "    else:\n",
    "        print(\"Action space n = \", env.action_spaces[idx].n)"
   ]
  },
  {
   "cell_type": "code",
   "execution_count": null,
   "metadata": {},
   "outputs": [],
   "source": [
    "limAct = [None, None]\n",
    "for idx in range(2):\n",
    "    limAct[idx] = [env.actBufLen * env.n_actions[idx][0], \n",
    "                   env.actBufLen * env.n_actions[idx][0] + env.actBufLen * env.n_actions[idx][1]]"
   ]
  },
  {
   "cell_type": "code",
   "execution_count": null,
   "metadata": {},
   "outputs": [],
   "source": [
    "# Visualize Obs content\n",
    "def observationViz(observation, limAct):\n",
    "    \n",
    "        shp = observation.shape\n",
    "        additionalPar = int(observation[0,0,shp[2]-1])\n",
    "        \n",
    "        nScalarAddPar = additionalPar - 2*len(env.charNames)\\\n",
    "                        - env.actBufLen*(env.n_actions[0][0]+env.n_actions[0][1]) # 1P\n",
    "        \n",
    "        if diambraEnvKwargs[\"player\"] == \"P1P2\": \n",
    "            nScalarAddPar = additionalPar - 2*len(env.charNames)\\\n",
    "                            - env.actBufLen*(env.n_actions[0][0]+env.n_actions[0][1]+\\\n",
    "                                             env.n_actions[1][0]+env.n_actions[1][1])# 2P\n",
    "        \n",
    "        addPar = observation[:,:,shp[2]-1]\n",
    "        addPar = np.reshape(addPar, (-1))\n",
    "        addPar = addPar[1:additionalPar+1]\n",
    "        actions = addPar[0:additionalPar-nScalarAddPar-2*env.numberOfCharacters]\n",
    "        \n",
    "        moveActionsP1   = actions[0:limAct[0][0]]\n",
    "        attackActionsP1 = actions[limAct[0][0]:limAct[0][1]]\n",
    "        moveActionsP1   = np.reshape(moveActionsP1, (env.actBufLen,-1))\n",
    "        attackActionsP1 = np.reshape(attackActionsP1, (env.actBufLen,-1))\n",
    "        print(\"Move actions P1 =\\n\", moveActionsP1)\n",
    "        print(\"Attack actions P1 =\\n \", attackActionsP1)\n",
    "        \n",
    "        # 2P\n",
    "        if diambraEnvKwargs[\"player\"] == \"P1P2\":\n",
    "            moveActionsP2   = actions[limAct[0][1]:limAct[0][1]+limAct[1][0]]\n",
    "            attackActionsP2 = actions[limAct[0][1]+limAct[1][0]:limAct[0][1]+limAct[1][1]]\n",
    "            moveActionsP2   = np.reshape(moveActionsP2, (env.actBufLen,-1))\n",
    "            attackActionsP2 = np.reshape(attackActionsP2, (env.actBufLen,-1))\n",
    "            print(\"Move actions P2 =\\n\", moveActionsP2)\n",
    "            print(\"Attack actions P2 =\\n\", attackActionsP2)        \n",
    "        \n",
    "        others = addPar[additionalPar-nScalarAddPar-2*env.numberOfCharacters:]\n",
    "        print(\"ownHealth = \", others[0])\n",
    "        print(\"oppHealth = \", others[1])\n",
    "        print(\"ownPosition = \", others[2])\n",
    "        print(\"oppPosition = \", others[3])\n",
    "        print(\"stage = \", others[4])\n",
    "        print(\"Playing Char 1P = \", env.charNames[list(others[nScalarAddPar:\n",
    "                                                              nScalarAddPar + env.numberOfCharacters]).index(1.0)])\n",
    "        \n",
    "        if diambraEnvKwargs[\"player\"] == \"P1P2\":\n",
    "            print(\"Playing Char 2P = \", env.charNames[list(others[nScalarAddPar + env.numberOfCharacters:\n",
    "                                                                  nScalarAddPar + 2*env.numberOfCharacters]).index(1.0)])\n",
    "        \n",
    "        #input(\"Pause1\")\n",
    "        \n",
    "        \n",
    "        obs = np.array(observation).astype(np.float32)\n",
    "    \n",
    "        for idx in range(shp[2]-1):\n",
    "            cv2.imshow(\"image\"+str(idx), obs[:,:,idx])\n",
    "    \n",
    "        cv2.waitKey()"
   ]
  },
  {
   "cell_type": "code",
   "execution_count": null,
   "metadata": {},
   "outputs": [],
   "source": [
    "observation = env.reset()"
   ]
  },
  {
   "cell_type": "code",
   "execution_count": null,
   "metadata": {},
   "outputs": [],
   "source": [
    "observationViz(observation, limAct) # Press space bar to complete notebook cell execution"
   ]
  },
  {
   "cell_type": "code",
   "execution_count": null,
   "metadata": {
    "scrolled": true
   },
   "outputs": [],
   "source": [
    "cumulativeEpRew = 0.0\n",
    "cumulativeEpRewAll = []\n",
    "\n",
    "maxNumEp = 100\n",
    "currNumEp = 0\n",
    "\n",
    "while currNumEp < maxNumEp:\n",
    "\n",
    "    # 1P\n",
    "    action = env.action_spaces[0].sample()\n",
    "    \n",
    "    # 2P\n",
    "    action2 = env.action_spaces[1].sample()\n",
    "    if diambraEnvKwargs[\"player\"] == \"P1P2\":\n",
    "        action = np.append(action, action2)\n",
    "\n",
    "    print(\"Action:\", action)\n",
    "    observation, reward, done, info = env.step(action)\n",
    "    \n",
    "    # Visualize observations content\n",
    "    observationViz(observation, limAct) # Keep space bar pressed to continue env execution\n",
    "        \n",
    "    cumulativeEpRew += reward\n",
    "    \n",
    "    if np.any(done):\n",
    "        currNumEp += 1\n",
    "        print(\"Ep. # = \", currNumEp)\n",
    "        print(\"Ep. Cumulative Rew # = \", cumulativeEpRew)\n",
    "        cumulativeEpRewAll.append(cumulativeEpRew)\n",
    "        cumulativeEpRew = 0.0\n",
    "\n",
    "        observation = env.reset()\n",
    "\n",
    "print(\"Mean cumulative reward = \", np.mean(cumulativeEpRewAll))    \n",
    "print(\"Std cumulative reward = \", np.std(cumulativeEpRewAll))       \n",
    "    \n",
    "env.close()"
   ]
  },
  {
   "cell_type": "code",
   "execution_count": null,
   "metadata": {},
   "outputs": [],
   "source": []
  }
 ],
 "metadata": {
  "kernelspec": {
   "display_name": "Python 3",
   "language": "python",
   "name": "python3"
  },
  "language_info": {
   "codemirror_mode": {
    "name": "ipython",
    "version": 3
   },
   "file_extension": ".py",
   "mimetype": "text/x-python",
   "name": "python",
   "nbconvert_exporter": "python",
   "pygments_lexer": "ipython3",
   "version": "3.6.12"
  }
 },
 "nbformat": 4,
 "nbformat_minor": 4
}
