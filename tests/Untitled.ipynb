{
 "cells": [
  {
   "cell_type": "code",
   "execution_count": 2,
   "metadata": {},
   "outputs": [],
   "source": [
    "import diambraArena"
   ]
  },
  {
   "cell_type": "code",
   "execution_count": null,
   "metadata": {},
   "outputs": [
    {
     "name": "stdout",
     "output_type": "stream",
     "text": [
      "EnvId = TestEnv\n",
      "Action Spaces = multiDiscrete\n",
      "Use attack buttons combinations = [True, True]\n",
      "diambraEnv library successfully loaded\n",
      "Pipe: /tmp/DIAMBRA/writeToDiambra-TestEnv.pipe\n",
      "Pipe: /tmp/DIAMBRA/readFromDiambra-TestEnv.pipe\n"
     ]
    }
   ],
   "source": [
    "diambraEnvKwargs = {}\n",
    "diambraEnvKwargs[\"gameId\"]   = \"doapp\" # Game selection\n",
    "diambraEnvKwargs[\"romsPath\"] = \"/home/apalmas/Applications/Diambra/diambraengine/roms/mame/\"\n",
    "\n",
    "diambraEnvKwargs[\"mameDiambraStepRatio\"] = 6\n",
    "diambraEnvKwargs[\"render\"]               = True # Renders the environment, deactivate for speedup\n",
    "diambraEnvKwargs[\"lockFps\"]              = True # Locks to 60 FPS\n",
    "diambraEnvKwargs[\"sound\"]                = False\n",
    "\n",
    "# 1P\n",
    "diambraEnvKwargs[\"player\"] = \"P1\"\n",
    "\n",
    "# Game specific\n",
    "diambraEnvKwargs[\"difficulty\"]  = 3\n",
    "diambraEnvKwargs[\"characters\"]  = [[\"Random\", \"Random\"], [\"Random\", \"Random\"]]\n",
    "diambraEnvKwargs[\"charOutfits\"] = [2, 2]\n",
    "\n",
    "envId = \"TestEnv\" # This ID must be unique for every instance of the environment when using diambraGym class\n",
    "env = diambraArena.make(envId, diambraEnvKwargs)"
   ]
  },
  {
   "cell_type": "code",
   "execution_count": null,
   "metadata": {},
   "outputs": [],
   "source": [
    "observation = env.reset()"
   ]
  },
  {
   "cell_type": "code",
   "execution_count": null,
   "metadata": {},
   "outputs": [],
   "source": [
    "for _ in range(100):\n",
    "\n",
    "    actions = env.action_spaces[0].sample() # Sampling for 1P mode\n",
    "\n",
    "    observation, reward, done, info = env.step(actions)\n",
    "\n",
    "    if done:\n",
    "        observation = env.reset()"
   ]
  },
  {
   "cell_type": "code",
   "execution_count": null,
   "metadata": {},
   "outputs": [],
   "source": [
    "env.close()"
   ]
  }
 ],
 "metadata": {
  "kernelspec": {
   "display_name": "Python 3",
   "language": "python",
   "name": "python3"
  },
  "language_info": {
   "codemirror_mode": {
    "name": "ipython",
    "version": 3
   },
   "file_extension": ".py",
   "mimetype": "text/x-python",
   "name": "python",
   "nbconvert_exporter": "python",
   "pygments_lexer": "ipython3",
   "version": "3.6.12"
  }
 },
 "nbformat": 4,
 "nbformat_minor": 4
}
